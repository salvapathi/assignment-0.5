{
 "cells": [
  {
   "cell_type": "markdown",
   "id": "9707d1dc",
   "metadata": {},
   "source": [
    "1.Define a function which will return Max of three numbers "
   ]
  },
  {
   "cell_type": "code",
   "execution_count": 33,
   "id": "53a68a39",
   "metadata": {},
   "outputs": [],
   "source": [
    "\n",
    "def max3(*x):\n",
    "    for i in range(len(x)):\n",
    "         return max(x)\n",
    "\n",
    "        \n",
    "    \n",
    "    "
   ]
  },
  {
   "cell_type": "code",
   "execution_count": 34,
   "id": "a39874c0",
   "metadata": {},
   "outputs": [
    {
     "data": {
      "text/plain": [
       "1008"
      ]
     },
     "execution_count": 34,
     "metadata": {},
     "output_type": "execute_result"
    }
   ],
   "source": [
    "max3(36,35,45,68,25,1008)"
   ]
  },
  {
   "cell_type": "code",
   "execution_count": 35,
   "id": "6a0a2d88",
   "metadata": {},
   "outputs": [
    {
     "data": {
      "text/plain": [
       "189"
      ]
     },
     "execution_count": 35,
     "metadata": {},
     "output_type": "execute_result"
    }
   ],
   "source": [
    "def max12(a,b,c):\n",
    "    return max(a,b,c)\n",
    "max12(44,165,189)"
   ]
  },
  {
   "cell_type": "markdown",
   "id": "6f4f6e3d",
   "metadata": {},
   "source": [
    "2.Define a Python Function to reverse a string.\n"
   ]
  },
  {
   "cell_type": "code",
   "execution_count": 73,
   "id": "accd9607",
   "metadata": {},
   "outputs": [],
   "source": [
    "def reverse(x):\n",
    "    return x[::-1]"
   ]
  },
  {
   "cell_type": "code",
   "execution_count": 74,
   "id": "d99e7510",
   "metadata": {},
   "outputs": [
    {
     "data": {
      "text/plain": [
       "'avlas'"
      ]
     },
     "execution_count": 74,
     "metadata": {},
     "output_type": "execute_result"
    }
   ],
   "source": [
    "reverse(\"salva\")"
   ]
  },
  {
   "cell_type": "code",
   "execution_count": 101,
   "id": "5093012a",
   "metadata": {},
   "outputs": [],
   "source": [
    "def re1(x):\n",
    "    x=\"\".join(reversed(x))\n",
    "    return x\n",
    "    "
   ]
  },
  {
   "cell_type": "code",
   "execution_count": 103,
   "id": "69f7bcfb",
   "metadata": {},
   "outputs": [
    {
     "data": {
      "text/plain": [
       "'udiaN'"
      ]
     },
     "execution_count": 103,
     "metadata": {},
     "output_type": "execute_result"
    }
   ],
   "source": [
    "re1(\"Naidu\")"
   ]
  },
  {
   "cell_type": "markdown",
   "id": "3abe8f3b",
   "metadata": {},
   "source": [
    "3.Write a Python program to define a function that accepts 2 values \n",
    "and return its sum, subtraction and multiplication."
   ]
  },
  {
   "cell_type": "code",
   "execution_count": 115,
   "id": "4d5ad3a4",
   "metadata": {},
   "outputs": [],
   "source": [
    "def calmul(x,y):\n",
    "    yield x+y\n",
    "    yield x-y\n",
    "    yield x*y\n",
    "\n",
    "\n",
    "    "
   ]
  },
  {
   "cell_type": "code",
   "execution_count": 120,
   "id": "5379fda3",
   "metadata": {},
   "outputs": [
    {
     "data": {
      "text/plain": [
       "11"
      ]
     },
     "execution_count": 120,
     "metadata": {},
     "output_type": "execute_result"
    }
   ],
   "source": [
    "w=calmul(5,6)\n",
    "next(w)\n",
    "\n"
   ]
  },
  {
   "cell_type": "code",
   "execution_count": 121,
   "id": "4bd0bd9a",
   "metadata": {},
   "outputs": [
    {
     "data": {
      "text/plain": [
       "-1"
      ]
     },
     "execution_count": 121,
     "metadata": {},
     "output_type": "execute_result"
    }
   ],
   "source": [
    "next(w)"
   ]
  },
  {
   "cell_type": "code",
   "execution_count": 122,
   "id": "5b32fdb6",
   "metadata": {},
   "outputs": [
    {
     "data": {
      "text/plain": [
       "30"
      ]
     },
     "execution_count": 122,
     "metadata": {},
     "output_type": "execute_result"
    }
   ],
   "source": [
    "next(w)"
   ]
  },
  {
   "cell_type": "code",
   "execution_count": 123,
   "id": "314a8094",
   "metadata": {},
   "outputs": [],
   "source": [
    "def add(a,b):\n",
    "    sum=a+b\n",
    "    sub=a-b\n",
    "    mul=a*b\n",
    "    print(\"sum{} sub {} mul {}\".format(sum,sub,mul))\n",
    "    "
   ]
  },
  {
   "cell_type": "code",
   "execution_count": 124,
   "id": "6700fe12",
   "metadata": {},
   "outputs": [
    {
     "name": "stdout",
     "output_type": "stream",
     "text": [
      "sum11 sub -1 mul 30\n"
     ]
    }
   ],
   "source": [
    "add(5,6)"
   ]
  },
  {
   "cell_type": "raw",
   "id": "0d3b31ff",
   "metadata": {},
   "source": [
    "4. Define a function that accepts roll number and returns whether the \n",
    "student is present or absent."
   ]
  },
  {
   "cell_type": "code",
   "execution_count": 133,
   "id": "a67c9cf4",
   "metadata": {},
   "outputs": [],
   "source": [
    "presentlist=[101,103,105,106,108,109,111]\n",
    "def fun(x):\n",
    "    if x in presentlist:\n",
    "         print(\"present\")\n",
    "    else:\n",
    "         print(\"absent\")\n",
    "\n",
    "\n",
    "\n"
   ]
  },
  {
   "cell_type": "code",
   "execution_count": 140,
   "id": "221a0e21",
   "metadata": {},
   "outputs": [
    {
     "name": "stdout",
     "output_type": "stream",
     "text": [
      "present\n"
     ]
    }
   ],
   "source": [
    "fun(111)"
   ]
  },
  {
   "cell_type": "markdown",
   "id": "d8359416",
   "metadata": {},
   "source": [
    "5. Define a function in python that accepts n values and returns \n",
    "the maximum of n numbers"
   ]
  },
  {
   "cell_type": "code",
   "execution_count": 143,
   "id": "db140aa2",
   "metadata": {},
   "outputs": [
    {
     "data": {
      "text/plain": [
       "99"
      ]
     },
     "execution_count": 143,
     "metadata": {},
     "output_type": "execute_result"
    }
   ],
   "source": [
    "def max1(*x):\n",
    "    return max(x)\n",
    "max(11,32,33,44,55,77,99,0,55,3,9,8)"
   ]
  },
  {
   "cell_type": "markdown",
   "id": "fb3abb7b",
   "metadata": {},
   "source": [
    "6. Define a function which counts vowels and consonant in a word"
   ]
  },
  {
   "cell_type": "code",
   "execution_count": 74,
   "id": "5c0595be",
   "metadata": {},
   "outputs": [],
   "source": [
    "def word(x):\n",
    "    vowel=[\"a\",\"e\",\"i\",\"o\",\"u\"]\n",
    "    vo=0\n",
    "    co=0\n",
    "    for k in x:\n",
    "        if k in vowel:\n",
    "            vo=vo+1\n",
    "        else:\n",
    "            co=co+1\n",
    "    print(vo)\n",
    "    print(co)\n"
   ]
  },
  {
   "cell_type": "code",
   "execution_count": 75,
   "id": "7601c5b3",
   "metadata": {},
   "outputs": [
    {
     "name": "stdout",
     "output_type": "stream",
     "text": [
      "4\n",
      "8\n"
     ]
    }
   ],
   "source": [
    "word(\"pawan kalyan\")"
   ]
  },
  {
   "cell_type": "code",
   "execution_count": null,
   "id": "660a154c",
   "metadata": {},
   "outputs": [],
   "source": []
  },
  {
   "cell_type": "code",
   "execution_count": 69,
   "id": "34fb074a",
   "metadata": {},
   "outputs": [
    {
     "name": "stdout",
     "output_type": "stream",
     "text": [
      "enter the string:=hgdsfuyghnbck\n",
      "1\n",
      "12\n"
     ]
    }
   ],
   "source": [
    "n=input(\"enter the string:=\")\n",
    "vowel=[\"a\",\"e\",\"i\",\"o\",\"u\"]\n",
    "vo=[]\n",
    "co=[]\n",
    "for i in n:\n",
    "    if i  in vowel:\n",
    "        vo.append(i)\n",
    "    elif i not in vowel:\n",
    "        co.append(i)\n",
    "print(len(vo))\n",
    "print(len(co))"
   ]
  },
  {
   "cell_type": "markdown",
   "id": "febd2fcf",
   "metadata": {},
   "source": [
    "7. Define a function that returns Factorial of a number"
   ]
  },
  {
   "cell_type": "code",
   "execution_count": 93,
   "id": "3473f1a0",
   "metadata": {},
   "outputs": [],
   "source": [
    "def fac(x):\n",
    "    fact=1\n",
    "    for i in range(x,0,-1):\n",
    "         fact=fact*i\n",
    "    print(fact)\n",
    "        \n",
    "    "
   ]
  },
  {
   "cell_type": "code",
   "execution_count": 94,
   "id": "4bbd53ca",
   "metadata": {},
   "outputs": [
    {
     "name": "stdout",
     "output_type": "stream",
     "text": [
      "40320\n"
     ]
    }
   ],
   "source": [
    "fac(8)"
   ]
  },
  {
   "cell_type": "code",
   "execution_count": 92,
   "id": "34f3c79f",
   "metadata": {},
   "outputs": [
    {
     "name": "stdout",
     "output_type": "stream",
     "text": [
      "enter the factorial number :8\n",
      "40320\n"
     ]
    }
   ],
   "source": [
    "n=int(input(\"enter the factorial number :\"))\n",
    "fact=1\n",
    "for i in range(n,0,-1):\n",
    "    fact=fact*i\n",
    "print(fact)"
   ]
  },
  {
   "cell_type": "markdown",
   "id": "9c8db70c",
   "metadata": {},
   "source": [
    "8.Define a function that accepts radius and returns the area of a circle.\n"
   ]
  },
  {
   "cell_type": "code",
   "execution_count": 100,
   "id": "ca3e2dd1",
   "metadata": {},
   "outputs": [],
   "source": [
    "def area(r):\n",
    "    \"\"\" the aera of circle is pie r square\"\"\"\n",
    "    return 3.14*(r)**2"
   ]
  },
  {
   "cell_type": "code",
   "execution_count": 101,
   "id": "274db9ca",
   "metadata": {},
   "outputs": [
    {
     "data": {
      "text/plain": [
       "12.56"
      ]
     },
     "execution_count": 101,
     "metadata": {},
     "output_type": "execute_result"
    }
   ],
   "source": [
    "area(2)"
   ]
  },
  {
   "cell_type": "markdown",
   "id": "7e278447",
   "metadata": {},
   "source": [
    "9. Define a function that takes a number as a parameter and check \n",
    "the number is prime or not."
   ]
  },
  {
   "cell_type": "code",
   "execution_count": 26,
   "id": "b55769ec",
   "metadata": {},
   "outputs": [],
   "source": [
    "def prime(num):\n",
    "    \n",
    "    if num > 1:\n",
    "        for i in range(2, int(num/2)+1):\n",
    "            if (num % i) == 0:\n",
    "               print(num, \"is not a prime number\")\n",
    "            break\n",
    "        else:\n",
    "            print(num, \"is a prime number\")\n",
    "    else:\n",
    "        print(num, \"is not a prime number\")\n"
   ]
  },
  {
   "cell_type": "code",
   "execution_count": 31,
   "id": "019ad728",
   "metadata": {},
   "outputs": [
    {
     "name": "stdout",
     "output_type": "stream",
     "text": [
      "8 is not a prime number\n"
     ]
    }
   ],
   "source": [
    "prime(8)"
   ]
  },
  {
   "cell_type": "markdown",
   "id": "325eb813",
   "metadata": {},
   "source": [
    "10. Mary wants to run a 25-mile marathon. When she attempts to \n",
    "sign up for the marathon, she notices the sign-up sheet doesn't \n",
    "directly state the marathon's length. Instead, the marathon's length \n",
    "is listed in small, different portions. Help Mary find out how long \n",
    "the marathon actually is. So create a function that \n",
    "** Return True if the marathon is 25 miles long, otherwise, return \n",
    "False.\n",
    "Examples :-\n",
    "marathon_distance([1, 2, 3, 4]) ➞ False \n",
    "marathon_distance([1, 9, 5, 8, 2]) ➞ True\n",
    "marathon_distance([-6, 15, 4]) ➞ True\n"
   ]
  },
  {
   "cell_type": "code",
   "execution_count": 57,
   "id": "f7e2a650",
   "metadata": {},
   "outputs": [],
   "source": [
    "def run(*m):\n",
    "    s=0\n",
    "    for i in m:\n",
    "        if i>0:\n",
    "            s=i+s\n",
    "        else:\n",
    "            i=i*(-1)\n",
    "            s=s+i\n",
    "    if s==25:\n",
    "        print(\"True\")\n",
    "    else:\n",
    "        print(\"False\")\n",
    "    \n",
    "\n",
    "   \n",
    "        \n",
    "    "
   ]
  },
  {
   "cell_type": "code",
   "execution_count": 60,
   "id": "f83d39b3",
   "metadata": {},
   "outputs": [
    {
     "name": "stdout",
     "output_type": "stream",
     "text": [
      "False\n"
     ]
    }
   ],
   "source": [
    "run(0,21,3)"
   ]
  },
  {
   "cell_type": "code",
   "execution_count": 30,
   "id": "d1359367",
   "metadata": {},
   "outputs": [
    {
     "data": {
      "text/plain": [
       "4"
      ]
     },
     "execution_count": 30,
     "metadata": {},
     "output_type": "execute_result"
    }
   ],
   "source": [
    "list1=[5,6,-7]\n",
    "sum(list1)\n",
    "    "
   ]
  },
  {
   "cell_type": "markdown",
   "id": "57276419",
   "metadata": {},
   "source": [
    "11.Create a function that takes a number and returns True if the number is automorphic, False if it isn't.\n",
    "** number n is automorphic if n^2 ends in n.\n"
   ]
  },
  {
   "cell_type": "code",
   "execution_count": 67,
   "id": "2410cbc3",
   "metadata": {},
   "outputs": [],
   "source": [
    "def auto(n):\n",
    "        c=n**2\n",
    "        b=str(c)\n",
    "        if int(b[-1])==n:\n",
    "            return True\n",
    "        else:\n",
    "            return False\n",
    "    \n",
    "        \n",
    "    "
   ]
  },
  {
   "cell_type": "code",
   "execution_count": 69,
   "id": "cb89d81d",
   "metadata": {},
   "outputs": [
    {
     "data": {
      "text/plain": [
       "True"
      ]
     },
     "execution_count": 69,
     "metadata": {},
     "output_type": "execute_result"
    }
   ],
   "source": [
    "auto(6)"
   ]
  },
  {
   "cell_type": "markdown",
   "id": "983b6204",
   "metadata": {},
   "source": [
    "12) Create a function, that will take given a, b, c, and do the following: \n",
    " Add a to itself b times and Check if the result is divisible by c.\n",
    " and return true if it is divisible by c or false\n",
    "Type your text\n",
    " Example:\n",
    " A=1\n",
    " B=2\n",
    " C=2\n",
    " So output is True because 1+1=2 and 2/2=0\n"
   ]
  },
  {
   "cell_type": "code",
   "execution_count": 74,
   "id": "808ae426",
   "metadata": {},
   "outputs": [],
   "source": [
    "def fun1(a,b,c):\n",
    "    d=(a+a)\n",
    "    if c%d==0:\n",
    "        return True\n",
    "    else:\n",
    "        return False\n",
    "    \n",
    "    "
   ]
  },
  {
   "cell_type": "code",
   "execution_count": 75,
   "id": "ca902466",
   "metadata": {},
   "outputs": [
    {
     "data": {
      "text/plain": [
       "True"
      ]
     },
     "execution_count": 75,
     "metadata": {},
     "output_type": "execute_result"
    }
   ],
   "source": [
    "fun1(1,2,2)"
   ]
  },
  {
   "cell_type": "markdown",
   "id": "1e585643",
   "metadata": {},
   "source": [
    "13. Create a function that changes specific words into emoticons. \n",
    "Given a sentence as a string, replace the words smile, grin, sad and mad \n",
    "with their corresponding emoticons."
   ]
  },
  {
   "cell_type": "code",
   "execution_count": 3,
   "id": "66f7490a",
   "metadata": {},
   "outputs": [],
   "source": [
    "def name(a):\n",
    "    s=a.split()\n",
    "    dic={\"smile\":\":D\",\"grin\":\":)\",\"sad\":\":(\",\"mad\":\":P\"}\n",
    "    for items in s:\n",
    "        if items in dic.keys():\n",
    "            change=a.replace(items,dic[items])\n",
    "            print(change)"
   ]
  },
  {
   "cell_type": "code",
   "execution_count": 4,
   "id": "bf863797",
   "metadata": {},
   "outputs": [
    {
     "name": "stdout",
     "output_type": "stream",
     "text": [
      ":P\n"
     ]
    }
   ],
   "source": [
    "name(\"mad\")"
   ]
  },
  {
   "cell_type": "markdown",
   "id": "977ecf9a",
   "metadata": {},
   "source": [
    "14) Write a Python program to square and cube every number in a given \n",
    "list of integers using Lambda"
   ]
  },
  {
   "cell_type": "code",
   "execution_count": 11,
   "id": "5f80de32",
   "metadata": {},
   "outputs": [],
   "source": [
    "q=[1,2,3,4,5,6,7,8,9]\n",
    "r=list(map(lambda r:r**2,q))\n",
    "p=list(map(lambda p:p**3,q))"
   ]
  },
  {
   "cell_type": "code",
   "execution_count": 12,
   "id": "a21b0159",
   "metadata": {},
   "outputs": [
    {
     "name": "stdout",
     "output_type": "stream",
     "text": [
      "[1, 4, 9, 16, 25, 36, 49, 64, 81]\n",
      "[1, 8, 27, 64, 125, 216, 343, 512, 729]\n"
     ]
    }
   ],
   "source": [
    "print(r)\n",
    "print(p)"
   ]
  },
  {
   "cell_type": "markdown",
   "id": "b511ef89",
   "metadata": {},
   "source": [
    "Write a Python program to check whether a given string is number \n",
    "or not using Lambd"
   ]
  },
  {
   "cell_type": "code",
   "execution_count": 40,
   "id": "417ea0d8",
   "metadata": {},
   "outputs": [],
   "source": [
    "def num(x):\n",
    "    \n",
    "        if x.isdigit():\n",
    "            print(\"its number\")\n",
    "        else:\n",
    "            print(\"its not digit \")"
   ]
  },
  {
   "cell_type": "code",
   "execution_count": 41,
   "id": "ab87e34f",
   "metadata": {},
   "outputs": [
    {
     "name": "stdout",
     "output_type": "stream",
     "text": [
      "its number\n"
     ]
    }
   ],
   "source": [
    "num(\"12264\")"
   ]
  },
  {
   "cell_type": "code",
   "execution_count": 42,
   "id": "26985d6b",
   "metadata": {},
   "outputs": [
    {
     "name": "stdout",
     "output_type": "stream",
     "text": [
      "its not digit \n"
     ]
    }
   ],
   "source": [
    "num(\"boss ra \")"
   ]
  },
  {
   "cell_type": "code",
   "execution_count": null,
   "id": "2b60a86a",
   "metadata": {},
   "outputs": [],
   "source": []
  }
 ],
 "metadata": {
  "kernelspec": {
   "display_name": "Python 3 (ipykernel)",
   "language": "python",
   "name": "python3"
  },
  "language_info": {
   "codemirror_mode": {
    "name": "ipython",
    "version": 3
   },
   "file_extension": ".py",
   "mimetype": "text/x-python",
   "name": "python",
   "nbconvert_exporter": "python",
   "pygments_lexer": "ipython3",
   "version": "3.9.13"
  }
 },
 "nbformat": 4,
 "nbformat_minor": 5
}
